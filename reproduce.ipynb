{
 "cells": [
  {
   "cell_type": "code",
   "execution_count": 1,
   "id": "431c8b10-ef92-4207-b494-da408fc7fcfb",
   "metadata": {
    "tags": []
   },
   "outputs": [],
   "source": [
    "import torch\n",
    "from data import Dataset\n",
    "\n",
    "from evaluate import evaluate_node\n",
    "from utils import create_masks"
   ]
  },
  {
   "cell_type": "markdown",
   "id": "ee4dc29f-79ac-4f76-9885-fb1902476d6c",
   "metadata": {},
   "source": [
    "## Evaluation of embeddings\n",
    "We attached embeddings of below datasets to show our reproducibility.  \n",
    "This is the results of **Table 1** and **2** in the paper."
   ]
  },
  {
   "cell_type": "code",
   "execution_count": 2,
   "id": "e4c764d1-6fe6-406f-87e5-3e42ee359ba8",
   "metadata": {},
   "outputs": [
    {
     "name": "stdout",
     "output_type": "stream",
     "text": [
      "Evaluate node classification results\n",
      "** Val: 81.4782 (0.9887) | Test: 80.2155 (0.6968) **\n"
     ]
    }
   ],
   "source": [
    "# WikiCS dataset\n",
    "wikics_dataset = Dataset(root=\"data\", dataset=\"wikics\")[0]\n",
    "embedding_path = \"./embeddings/RGRL/RGRL_wikics.pt\"\n",
    "embeddings = torch.tensor(torch.load(embedding_path)[\"embeddings\"])\n",
    "\n",
    "evaluate_node(embeddings, wikics_dataset, \"wikics\")"
   ]
  },
  {
   "cell_type": "code",
   "execution_count": 3,
   "id": "acb5cc43-95a6-4557-ba11-ae344b10bf20",
   "metadata": {},
   "outputs": [
    {
     "name": "stdout",
     "output_type": "stream",
     "text": [
      "Evaluate node classification results\n",
      "** Val: 89.7636 (0.7816) | Test: 89.7109 (0.4711) **\n"
     ]
    }
   ],
   "source": [
    "# Computers dataset\n",
    "computers_dataset = Dataset(root=\"data\", dataset=\"computers\")[0]\n",
    "embedding_path = \"./embeddings/RGRL/RGRL_computers.pt\"\n",
    "embeddings = torch.tensor(torch.load(embedding_path)[\"embeddings\"])\n",
    "\n",
    "evaluate_node(embeddings, computers_dataset, \"computers\")"
   ]
  },
  {
   "cell_type": "code",
   "execution_count": 4,
   "id": "100fc197-b8c2-47e1-9d5f-42ce741ab19a",
   "metadata": {},
   "outputs": [
    {
     "name": "stdout",
     "output_type": "stream",
     "text": [
      "Evaluate node classification results\n",
      "** Val: 93.2092 (0.8676) | Test: 93.4453 (0.3226) **\n"
     ]
    }
   ],
   "source": [
    "# Photo dataset\n",
    "photo_dataset = Dataset(root=\"data\", dataset=\"photo\")[0]\n",
    "embedding_path = \"./embeddings/RGRL/RGRL_photo.pt\"\n",
    "embeddings = torch.tensor(torch.load(embedding_path)[\"embeddings\"])\n",
    "\n",
    "evaluate_node(embeddings, photo_dataset, \"photo\")"
   ]
  },
  {
   "cell_type": "code",
   "execution_count": 5,
   "id": "1239dc1c-0d18-4814-98d4-ea91d1d7ce08",
   "metadata": {},
   "outputs": [
    {
     "name": "stdout",
     "output_type": "stream",
     "text": [
      "Evaluate node classification results\n",
      "** Val: 92.7905 (0.7160) | Test: 92.9360 (0.1155) **\n"
     ]
    }
   ],
   "source": [
    "# CS dataset\n",
    "cs_dataset = Dataset(root=\"data\", dataset=\"cs\")[0]\n",
    "embedding_path = \"./embeddings/RGRL/RGRL_cs.pt\"\n",
    "embeddings = torch.tensor(torch.load(embedding_path)[\"embeddings\"])\n",
    "\n",
    "evaluate_node(embeddings, cs_dataset, \"cs\")"
   ]
  },
  {
   "cell_type": "code",
   "execution_count": 6,
   "id": "600564cb-d109-4095-b00d-2aa0a721c410",
   "metadata": {},
   "outputs": [
    {
     "name": "stdout",
     "output_type": "stream",
     "text": [
      "Evaluate node classification results\n",
      "** Val: 95.3421 (0.4069) | Test: 95.4577 (0.0914) **\n"
     ]
    }
   ],
   "source": [
    "# Physics dataset\n",
    "physics_dataset = Dataset(root=\"data\", dataset=\"physics\")[0]\n",
    "embedding_path = \"./embeddings/RGRL/RGRL_physics.pt\"\n",
    "embeddings = torch.tensor(torch.load(embedding_path)[\"embeddings\"])\n",
    "\n",
    "evaluate_node(embeddings, physics_dataset, \"physics\")"
   ]
  },
  {
   "cell_type": "code",
   "execution_count": 7,
   "id": "677b0ec9-360a-4424-a4ce-8cd1f66f9436",
   "metadata": {},
   "outputs": [
    {
     "name": "stdout",
     "output_type": "stream",
     "text": [
      "Evaluate node classification results\n",
      "** Val: 84.6852 (1.7540) | Test: 84.0259 (0.7097) **\n"
     ]
    }
   ],
   "source": [
    "# Cora dataset\n",
    "cora_dataset = Dataset(root=\"data\", dataset=\"cora\")[0]\n",
    "embedding_path = \"./embeddings/RGRL/RGRL_cora.pt\"\n",
    "embeddings = torch.tensor(torch.load(embedding_path)[\"embeddings\"])\n",
    "\n",
    "evaluate_node(embeddings, cora_dataset, \"cora\")"
   ]
  },
  {
   "cell_type": "code",
   "execution_count": 8,
   "id": "8796e875-1467-4f0c-9ffd-7386d31d3068",
   "metadata": {},
   "outputs": [
    {
     "name": "stdout",
     "output_type": "stream",
     "text": [
      "Evaluate node classification results\n",
      "** Val: 71.8223 (2.1959) | Test: 71.3134 (0.7723) **\n"
     ]
    }
   ],
   "source": [
    "# Citeseer dataset\n",
    "citeseer_dataset = Dataset(root=\"data\", dataset=\"citeseer\")[0]\n",
    "embedding_path = \"./embeddings/RGRL/RGRL_citeseer.pt\"\n",
    "embeddings = torch.tensor(torch.load(embedding_path)[\"embeddings\"])\n",
    "\n",
    "evaluate_node(embeddings, citeseer_dataset, \"citeseer\")"
   ]
  },
  {
   "cell_type": "code",
   "execution_count": 9,
   "id": "4d2af00d-46c0-429d-8057-f50f07416f25",
   "metadata": {},
   "outputs": [
    {
     "name": "stdout",
     "output_type": "stream",
     "text": [
      "Evaluate node classification results\n",
      "** Val: 85.4972 (0.6839) | Test: 85.2045 (0.3382) **\n"
     ]
    }
   ],
   "source": [
    "# Pubmed dataset\n",
    "pubmed_dataset = Dataset(root=\"data\", dataset=\"pubmed\")[0]\n",
    "embedding_path = \"./embeddings/RGRL/RGRL_pubmed.pt\"\n",
    "embeddings = torch.tensor(torch.load(embedding_path)[\"embeddings\"])\n",
    "\n",
    "evaluate_node(embeddings, pubmed_dataset, \"pubmed\")"
   ]
  },
  {
   "cell_type": "code",
   "execution_count": 10,
   "id": "66a49331-dac3-408d-b34e-4ce0b6d42d79",
   "metadata": {},
   "outputs": [
    {
     "name": "stdout",
     "output_type": "stream",
     "text": [
      "Evaluate node classification results\n",
      "** Val: 64.6791 (1.1984) | Test: 64.6018 (0.4223) **\n"
     ]
    }
   ],
   "source": [
    "# Pubmed dataset\n",
    "corafull_dataset = Dataset(root=\"data\", dataset=\"corafull\")[0]\n",
    "embedding_path = \"./embeddings/RGRL/RGRL_corafull.pt\"\n",
    "embeddings = torch.tensor(torch.load(embedding_path)[\"embeddings\"])\n",
    "\n",
    "evaluate_node(embeddings, corafull_dataset, \"corafull\")"
   ]
  },
  {
   "cell_type": "code",
   "execution_count": 11,
   "id": "9321df39-b770-4093-844c-937d23b10fd8",
   "metadata": {},
   "outputs": [
    {
     "name": "stderr",
     "output_type": "stream",
     "text": [
      "WARNING:root:The OGB package is out of date. Your version is 1.3.1, while the latest version is 1.3.2.\n"
     ]
    },
    {
     "name": "stdout",
     "output_type": "stream",
     "text": [
      "Evaluate node classification results\n",
      "** Val: 72.3754 (0.0807) | Test: 71.4928 (0.0755) **\n"
     ]
    }
   ],
   "source": [
    "# ogbn-arXiv dataset\n",
    "from ogb.nodeproppred import PygNodePropPredDataset\n",
    "\n",
    "arxiv_dataset = PygNodePropPredDataset(name = \"ogbn-arxiv\")\n",
    "split_idx = arxiv_dataset.get_idx_split()\n",
    "arxiv_dataset = arxiv_dataset[0]\n",
    "arxiv_dataset = create_masks(arxiv_dataset, \"ogbn-arXiv\", split_idx)\n",
    "\n",
    "embedding_path = \"./embeddings/RGRL/RGRL_ogbn.pt\"\n",
    "embeddings = torch.tensor(torch.load(embedding_path)[\"embeddings\"])\n",
    "\n",
    "evaluate_node(embeddings, arxiv_dataset, \"ogbn-arxiv\")"
   ]
  },
  {
   "cell_type": "code",
   "execution_count": null,
   "id": "3ed84437-f929-4676-8748-f8b791e5d2f9",
   "metadata": {},
   "outputs": [],
   "source": []
  }
 ],
 "metadata": {
  "kernelspec": {
   "display_name": "Python 3",
   "language": "python",
   "name": "python3"
  },
  "language_info": {
   "codemirror_mode": {
    "name": "ipython",
    "version": 3
   },
   "file_extension": ".py",
   "mimetype": "text/x-python",
   "name": "python",
   "nbconvert_exporter": "python",
   "pygments_lexer": "ipython3",
   "version": "3.7.10"
  }
 },
 "nbformat": 4,
 "nbformat_minor": 5
}
